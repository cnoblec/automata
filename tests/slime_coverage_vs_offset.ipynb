{
 "cells": [
  {
   "cell_type": "code",
   "execution_count": 87,
   "metadata": {},
   "outputs": [
    {
     "name": "stdout",
     "output_type": "stream",
     "text": [
      "Done offset 3 with pop% 0.1 in 13.818992853164673 seconds\n",
      "Done offset 3 with pop% 0.2 in 16.11649203300476 seconds\n",
      "Done offset 3 with pop% 0.30000000000000004 in 18.26248288154602 seconds\n",
      "Done offset 3 with pop% 0.4 in 20.49401593208313 seconds\n",
      "Done offset 3 with pop% 0.5 in 24.090819120407104 seconds\n",
      "Done offset 3 with pop% 0.6 in 26.019629955291748 seconds\n",
      "Done offset 3 with pop% 0.7000000000000001 in 29.19396209716797 seconds\n",
      "Done offset 3 with pop% 0.8 in 33.645419120788574 seconds\n",
      "Done offset 3 with pop% 0.9 in 37.402114152908325 seconds\n",
      "Done offset 9 with pop% 0.1 in 11.1444091796875 seconds\n",
      "Done offset 9 with pop% 0.2 in 17.0918288230896 seconds\n",
      "Done offset 9 with pop% 0.30000000000000004 in 16.78306269645691 seconds\n",
      "Done offset 9 with pop% 0.4 in 21.445497751235962 seconds\n",
      "Done offset 9 with pop% 0.5 in 22.222652196884155 seconds\n",
      "Done offset 9 with pop% 0.6 in 25.922982931137085 seconds\n",
      "Done offset 9 with pop% 0.7000000000000001 in 32.098095178604126 seconds\n",
      "Done offset 9 with pop% 0.8 in 32.663005113601685 seconds\n",
      "Done offset 9 with pop% 0.9 in 35.44174003601074 seconds\n",
      "Done offset 15 with pop% 0.1 in 10.61498498916626 seconds\n",
      "Done offset 15 with pop% 0.2 in 13.267349004745483 seconds\n",
      "Done offset 15 with pop% 0.30000000000000004 in 15.793437004089355 seconds\n",
      "Done offset 15 with pop% 0.4 in 18.462924003601074 seconds\n",
      "Done offset 15 with pop% 0.5 in 22.85673213005066 seconds\n",
      "Done offset 15 with pop% 0.6 in 27.92438793182373 seconds\n",
      "Done offset 15 with pop% 0.7000000000000001 in 28.25618886947632 seconds\n",
      "Done offset 15 with pop% 0.8 in 31.375245094299316 seconds\n",
      "Done offset 15 with pop% 0.9 in 35.51094079017639 seconds\n",
      "Done offset 21 with pop% 0.1 in 9.894294023513794 seconds\n",
      "Done offset 21 with pop% 0.2 in 11.850841045379639 seconds\n",
      "Done offset 21 with pop% 0.30000000000000004 in 14.012986898422241 seconds\n",
      "Done offset 21 with pop% 0.4 in 16.39298677444458 seconds\n",
      "Done offset 21 with pop% 0.5 in 18.50021505355835 seconds\n",
      "Done offset 21 with pop% 0.6 in 22.791577100753784 seconds\n",
      "Done offset 21 with pop% 0.7000000000000001 in 25.286768198013306 seconds\n",
      "Done offset 21 with pop% 0.8 in 29.108105897903442 seconds\n",
      "Done offset 21 with pop% 0.9 in 32.23247694969177 seconds\n",
      "Done offset 27 with pop% 0.1 in 9.4961519241333 seconds\n",
      "Done offset 27 with pop% 0.2 in 11.368664026260376 seconds\n",
      "Done offset 27 with pop% 0.30000000000000004 in 13.687871932983398 seconds\n",
      "Done offset 27 with pop% 0.4 in 16.945634126663208 seconds\n",
      "Done offset 27 with pop% 0.5 in 19.432756900787354 seconds\n",
      "Done offset 27 with pop% 0.6 in 22.43271231651306 seconds\n",
      "Done offset 27 with pop% 0.7000000000000001 in 25.191716194152832 seconds\n",
      "Done offset 27 with pop% 0.8 in 42.982102155685425 seconds\n",
      "Done offset 27 with pop% 0.9 in 32.1124382019043 seconds\n"
     ]
    }
   ],
   "source": [
    "import os, sys\n",
    "import matplotlib.pyplot as plt\n",
    "import numpy as np\n",
    "code = os.path.abspath(\"../code\")\n",
    "sys.path.append(code)\n",
    "import slime\n",
    "import importlib\n",
    "\n",
    "import time\n",
    "\n",
    "slime = importlib.reload(slime)\n",
    "\n",
    "# Sensor offset vs. coverage %\n",
    "so = np.array([3, 9, 15, 21, 27])\n",
    "# so = np.array([9])\n",
    "pop = np.linspace(0.1, 0.9, 9)\n",
    "# pop = [0.1]\n",
    "\n",
    "width = 100\n",
    "\n",
    "plot = np.empty((len(so)*width, len(pop)*width))\n",
    "x = 0\n",
    "y = 0\n",
    "for offset in so:\n",
    "    for p in pop:\n",
    "        start = time.time()\n",
    "\n",
    "        sm = slime.Mould(width, sensor_offset=offset, coverage=p)\n",
    "        sm.evolve(100)\n",
    "        cy = y*width\n",
    "        cx = x*width\n",
    "        plot[cy:cy+width, cx:cx+width] = sm.pheromones()\n",
    "        x += 1\n",
    "\n",
    "        end = time.time()\n",
    "\n",
    "        print(f\"Done offset {offset} with pop% {p} in {end-start} seconds\")\n",
    "    x = 0\n",
    "    y += 1\n"
   ]
  },
  {
   "cell_type": "code",
   "execution_count": 85,
   "metadata": {},
   "outputs": [],
   "source": [
    "x=0\n",
    "y=0\n",
    "for offset in so:\n",
    "    for p in pop:\n",
    "        cy = y*width\n",
    "        cx = x*width\n",
    "        plot[cy:cy+width, cx:cx+width] = plot[cy:cy+width, cx:cx+width]/np.max(plot[cy:cy+width, cx:cx+width])\n",
    "        x += 1\n",
    "    x = 0\n",
    "    y += 1"
   ]
  },
  {
   "cell_type": "code",
   "execution_count": 2,
   "metadata": {},
   "outputs": [
    {
     "ename": "NameError",
     "evalue": "name 'plt' is not defined",
     "output_type": "error",
     "traceback": [
      "\u001b[0;31m---------------------------------------------------------------------------\u001b[0m",
      "\u001b[0;31mNameError\u001b[0m                                 Traceback (most recent call last)",
      "\u001b[0;32m/var/folders/z4/6qrf12jx1g51lqyvdvwrdr_c0000gn/T/ipykernel_26185/186568800.py\u001b[0m in \u001b[0;36m<module>\u001b[0;34m\u001b[0m\n\u001b[0;32m----> 1\u001b[0;31m \u001b[0mfig\u001b[0m\u001b[0;34m,\u001b[0m \u001b[0max\u001b[0m \u001b[0;34m=\u001b[0m \u001b[0mplt\u001b[0m\u001b[0;34m.\u001b[0m\u001b[0msubplots\u001b[0m\u001b[0;34m(\u001b[0m\u001b[0mfigsize\u001b[0m\u001b[0;34m=\u001b[0m\u001b[0;34m(\u001b[0m\u001b[0;36m20\u001b[0m\u001b[0;34m,\u001b[0m\u001b[0;36m27\u001b[0m\u001b[0;34m)\u001b[0m\u001b[0;34m)\u001b[0m\u001b[0;34m\u001b[0m\u001b[0;34m\u001b[0m\u001b[0m\n\u001b[0m\u001b[1;32m      2\u001b[0m \u001b[0mplt\u001b[0m\u001b[0;34m.\u001b[0m\u001b[0mimshow\u001b[0m\u001b[0;34m(\u001b[0m\u001b[0mplot\u001b[0m\u001b[0;34m,\u001b[0m \u001b[0mcmap\u001b[0m\u001b[0;34m=\u001b[0m\u001b[0;34m'_rgray'\u001b[0m\u001b[0;34m)\u001b[0m\u001b[0;34m\u001b[0m\u001b[0;34m\u001b[0m\u001b[0m\n\u001b[1;32m      3\u001b[0m \u001b[0mprint\u001b[0m\u001b[0;34m(\u001b[0m\u001b[0mplot\u001b[0m\u001b[0;34m.\u001b[0m\u001b[0mshape\u001b[0m\u001b[0;34m)\u001b[0m\u001b[0;34m\u001b[0m\u001b[0;34m\u001b[0m\u001b[0m\n\u001b[1;32m      4\u001b[0m \u001b[0;31m# pl = np.clip(plot, 0, 1)\u001b[0m\u001b[0;34m\u001b[0m\u001b[0;34m\u001b[0m\u001b[0;34m\u001b[0m\u001b[0m\n\u001b[1;32m      5\u001b[0m \u001b[0;31m# plt.imshow(pl, cmap='_rgray')\u001b[0m\u001b[0;34m\u001b[0m\u001b[0;34m\u001b[0m\u001b[0;34m\u001b[0m\u001b[0m\n",
      "\u001b[0;31mNameError\u001b[0m: name 'plt' is not defined"
     ]
    }
   ],
   "source": [
    "fig, ax = plt.subplots(figsize=(20,27))\n",
    "plt.imshow(plot, cmap='_rgray')\n",
    "print(plot.shape)\n",
    "# pl = np.clip(plot, 0, 1)\n",
    "# plt.imshow(pl, cmap='_rgray')\n",
    "ax.set_xticks(np.linspace(0, (len(pop)-1)*width, len(pop))+width/2)\n",
    "ax.set_yticks(np.linspace(0, (len(so)-1)*width, len(so))+width/2)\n",
    "ax.set_xticklabels([0.1, 0.2, 0.3, 0.4, 0.5, 0.6, 0.7, 0.8, 0.9], fontsize=18)\n",
    "ax.set_yticklabels(so,  fontsize=18)\n",
    "ax.set_xlabel('Coverage', fontsize=24)\n",
    "ax.set_ylabel('Sensor offset', fontsize=24)\n",
    "ax.set_title('Slime Mould for varying sensor offsets and coverages at 100 steps', fontsize=30)\n",
    "for i in range(len(pop)):\n",
    "    plt.axvline(x=i*width, color='black', linewidth=3)\n",
    "\n",
    "for i in range(len(so)):\n",
    "    plt.axhline(y=i*width, color='black', linewidth=3)\n",
    "\n",
    "plt.gca().set_aspect(1)\n",
    "ax.grid(linewidth=1, which='minor')\n",
    "plt.show()"
   ]
  },
  {
   "cell_type": "code",
   "execution_count": null,
   "metadata": {},
   "outputs": [],
   "source": []
  }
 ],
 "metadata": {
  "interpreter": {
   "hash": "082e9a3bcad0a290d0001e938aa60b99250c6c2ef33a923c00b70f9826caf4b7"
  },
  "kernelspec": {
   "display_name": "Python 3.8.3 64-bit",
   "language": "python",
   "name": "python3"
  },
  "language_info": {
   "codemirror_mode": {
    "name": "ipython",
    "version": 3
   },
   "file_extension": ".py",
   "mimetype": "text/x-python",
   "name": "python",
   "nbconvert_exporter": "python",
   "pygments_lexer": "ipython3",
   "version": "3.8.3"
  },
  "orig_nbformat": 4
 },
 "nbformat": 4,
 "nbformat_minor": 2
}
